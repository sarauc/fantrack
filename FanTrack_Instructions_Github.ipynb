{
  "cells": [
    {
      "cell_type": "markdown",
      "metadata": {
        "id": "rNapAvOPKwzW"
      },
      "source": [
        "# **Connect to Github**\n",
        "- This method works given the FanTrack codebase are stored in Github repository\n",
        "- If reset session, you need to update the key in github: https://github.com/settings/keys\n",
        "- https://stackoverflow.com/questions/13363553/git-error-host-key-verification-failed-when-connecting-to-remote-repository"
      ]
    },
    {
      "cell_type": "code",
      "execution_count": null,
      "metadata": {
        "id": "IlsXWjZoyH1p"
      },
      "outputs": [],
      "source": [
        "!ssh-keygen"
      ]
    },
    {
      "cell_type": "code",
      "execution_count": null,
      "metadata": {
        "id": "w0k9uJMwyNOT"
      },
      "outputs": [],
      "source": [
        "!cat /root/.ssh/id_rsa.pub"
      ]
    },
    {
      "cell_type": "code",
      "execution_count": null,
      "metadata": {
        "id": "mTULYi8Nz6ZZ"
      },
      "outputs": [],
      "source": [
        "!ssh-keyscan github.com >> ~/.ssh/known_hosts\n",
        "!ssh-keyscan -t rsa github.com >> ~/.ssh/known_hosts"
      ]
    },
    {
      "cell_type": "markdown",
      "metadata": {
        "id": "JAdCn9JAypv1"
      },
      "source": [
        "# **Environment Setup**\n",
        "- Set up environment suitable for running FanTrack in TensorFlow 1.13.1\n",
        "- Set up dependent files for AVOD\n"
      ]
    },
    {
      "cell_type": "code",
      "source": [
        "# This is to connect to where KITTI dataset resids\n",
        "from google.colab import drive\n",
        "drive.mount('/content/drive')"
      ],
      "metadata": {
        "id": "rjhRiuoCRMkf"
      },
      "execution_count": null,
      "outputs": []
    },
    {
      "cell_type": "code",
      "source": [
        "%cd /content/"
      ],
      "metadata": {
        "id": "uJU2DMmyoURh"
      },
      "execution_count": null,
      "outputs": []
    },
    {
      "cell_type": "code",
      "execution_count": null,
      "metadata": {
        "id": "OYmq_5yQoWiS"
      },
      "outputs": [],
      "source": [
        "!git clone -b copy git@github.com:sarauc/fantrack.git --recurse-submodules\n",
        "#!git clone https://github.com/sarauc/fantrack --recurse-submodules"
      ]
    },
    {
      "cell_type": "code",
      "execution_count": null,
      "metadata": {
        "id": "YoLnVZFxytFa"
      },
      "outputs": [],
      "source": [
        "%cd /content/fantrack\n",
        "!tail .gitmodules"
      ]
    },
    {
      "cell_type": "code",
      "execution_count": null,
      "metadata": {
        "id": "eZHG_l9YzahW"
      },
      "outputs": [],
      "source": [
        "!git submodule update --init --recursive"
      ]
    },
    {
      "cell_type": "code",
      "execution_count": null,
      "metadata": {
        "id": "Sr2lCAzSpm6a"
      },
      "outputs": [],
      "source": [
        "#deal with error that cannot access xx folder\n",
        "#https://medium.com/@cwcgchello/how-to-set-pythonpath-in-colab-bf8c239c7c29\n",
        "import os\n",
        "os.environ['PYTHONPATH'] += \":/content/fantrack/\"\n",
        "os.environ['PYTHONPATH'] += \":/content/fantrack/object_detector\"\n",
        "os.environ['PYTHONPATH'] += \":/content/fantrack/object_detector/wavedata\"\n",
        "os.environ['PYTHONPATH'] += \":/content/fantrack/fan_track/\"\n",
        "os.environ['PYTHONPATH'] += \":/content/fantrack/fan_track/object_detector/avod/\"\n",
        "\n",
        "!echo $PYTHONPATH"
      ]
    },
    {
      "cell_type": "code",
      "source": [
        "%%bash\n",
        "MINICONDA_INSTALLER_SCRIPT=Miniconda3-4.5.4-Linux-x86_64.sh\n",
        "MINICONDA_PREFIX=/usr/local\n",
        "wget https://repo.continuum.io/miniconda/$MINICONDA_INSTALLER_SCRIPT\n",
        "chmod +x $MINICONDA_INSTALLER_SCRIPT\n",
        "./$MINICONDA_INSTALLER_SCRIPT -b -f -p $MINICONDA_PREFIX"
      ],
      "metadata": {
        "id": "wefJJ5g8Qiyf"
      },
      "execution_count": null,
      "outputs": []
    },
    {
      "cell_type": "code",
      "source": [
        "!conda install cudatoolkit=10.0 python=3.6.5 -y\n",
        "!conda install -c anaconda cudnn=7.6.4 -y"
      ],
      "metadata": {
        "id": "Tlw7cv-cQsSb"
      },
      "execution_count": null,
      "outputs": []
    },
    {
      "cell_type": "code",
      "execution_count": null,
      "metadata": {
        "id": "Y_EDv4YFqQi8"
      },
      "outputs": [],
      "source": [
        "#only run once\n",
        "!pip install -r /content/fantrack/requirements.txt\n",
        "!pip uninstall -y tensorflow\n",
        "!pip install tensorflow-gpu==1.13.1\n",
        "!pip install protobuf==3.20.0\n",
        "!pip install ipykernel"
      ]
    },
    {
      "cell_type": "code",
      "execution_count": null,
      "metadata": {
        "id": "Dv1nT458VoQu"
      },
      "outputs": [],
      "source": [
        "%%python3\n",
        "# After previous block finishes running, restart the session and run again\n",
        "# Make sure TF version is 1.13\n",
        "import tensorflow as tf \n",
        "print(tf.__version__)"
      ]
    },
    {
      "cell_type": "code",
      "execution_count": null,
      "metadata": {
        "id": "IR8qar3N0Uhf"
      },
      "outputs": [],
      "source": [
        "%cd /content/fantrack/fan_track/object_detector/ "
      ]
    },
    {
      "cell_type": "code",
      "execution_count": null,
      "metadata": {
        "id": "iK04YXNLMbeA"
      },
      "outputs": [],
      "source": [
        "!git clone git@github.com:sarauc/avod.git --recurse-submodules"
      ]
    },
    {
      "cell_type": "code",
      "execution_count": null,
      "metadata": {
        "id": "_L-oGaP3UX4O"
      },
      "outputs": [],
      "source": [
        "# move /object_detector/avod/* to /object_detector/\n",
        "!mv /content/fantrack/fan_track/object_detector/avod/ /content/fantrack/fan_track/object_detector/tmp_avod/\n",
        "!cp -r /content/fantrack/fan_track/object_detector/tmp_avod/* /content/fantrack/fan_track/object_detector/\n",
        "!rm -r /content/fantrack/fan_track/object_detector/tmp_avod/"
      ]
    },
    {
      "cell_type": "code",
      "execution_count": null,
      "metadata": {
        "id": "C1q98Ecn0gnm"
      },
      "outputs": [],
      "source": [
        "!git submodule update --init --recursive"
      ]
    },
    {
      "cell_type": "code",
      "execution_count": null,
      "metadata": {
        "id": "-h9FmY5QLuAR"
      },
      "outputs": [],
      "source": [
        "#deal with error that cannot access xx folder\n",
        "#https://medium.com/@cwcgchello/how-to-set-pythonpath-in-colab-bf8c239c7c29\n",
        "import os\n",
        "os.environ['PYTHONPATH'] += \":/content/fantrack/\"\n",
        "os.environ['PYTHONPATH'] += \":/content/fantrack/object_detector\"\n",
        "os.environ['PYTHONPATH'] += \":/content/fantrack/object_detector/wavedata\"\n",
        "os.environ['PYTHONPATH'] += \":/content/fantrack/fan_track/\"\n",
        "os.environ['PYTHONPATH'] += \":/content/fantrack/fan_track/object_detector/avod/\"\n",
        "\n",
        "!echo $PYTHONPATH"
      ]
    },
    {
      "cell_type": "code",
      "execution_count": null,
      "metadata": {
        "id": "mTiuKrAz1D9w"
      },
      "outputs": [],
      "source": [
        "!sh scripts/install/build_integral_image_lib.bash"
      ]
    },
    {
      "cell_type": "code",
      "execution_count": null,
      "metadata": {
        "id": "Mmw3LZmv1Gfs"
      },
      "outputs": [],
      "source": [
        "!sh avod/protos/run_protoc.sh"
      ]
    },
    {
      "cell_type": "code",
      "execution_count": null,
      "metadata": {
        "id": "iz19gyIu2bVC"
      },
      "outputs": [],
      "source": [
        "# Need to change the fantrack script \n",
        "'''line 654\n",
        "<     def create_feed_dict(self):\n",
        "<         feed_dict = self._rpn_model.create_feed_dict()\n",
        "---\n",
        "    def create_feed_dict(self, sample_index=None):\n",
        "        feed_dict = self._rpn_model.create_feed_dict(sample_index)\n",
        "        self.sample_info = self._rpn_model.sample_info\n",
        "        return feed_dict\n",
        "'''\n",
        "\n",
        "\n",
        "# /content/fantrack/fan_track/object_detector/avod/core/models/avod_model.py"
      ]
    },
    {
      "cell_type": "markdown",
      "metadata": {
        "id": "o0FUZ8VlrxLX"
      },
      "source": [
        "# **Train AVOD**"
      ]
    },
    {
      "cell_type": "code",
      "execution_count": null,
      "metadata": {
        "id": "2Eoba5kLfdjr"
      },
      "outputs": [],
      "source": [
        "#https://medium.com/@cwcgchello/how-to-set-pythonpath-in-colab-bf8c239c7c29\n",
        "import os\n",
        "os.environ['PYTHONPATH'] += \":/content/fantrack/\"\n",
        "os.environ['PYTHONPATH'] += \":/content/fantrack/fan_track/object_detector\"\n",
        "os.environ['PYTHONPATH'] += \":/content/fantrack/fan_track/\"\n",
        "os.environ['PYTHONPATH'] += \":/content/fantrack/fan_track/object_detector/wavedata/wavedata\"\n",
        "os.environ['PYTHONPATH'] += \":/content/fantrack/fan_track/object_detector/wavedata/\"\n",
        "\n",
        "!echo $PYTHONPATH"
      ]
    },
    {
      "cell_type": "code",
      "execution_count": null,
      "metadata": {
        "id": "TaJioE-hX7Ho"
      },
      "outputs": [],
      "source": [
        "# add pretrained weights and configs\n",
        "!mkdir /content/fantrack/fan_track/object_detector/data/\n",
        "!mkdir /content/fantrack/fan_track/object_detector/data/outputs/\n",
        "!cp /content/drive/MyDrive/KITTI/avod_weights/avod_cars_fast.zip /content/fantrack/fan_track/object_detector/data/"
      ]
    },
    {
      "cell_type": "code",
      "execution_count": null,
      "metadata": {
        "id": "gJCfBNI0YRvt"
      },
      "outputs": [],
      "source": [
        "!unzip /content/fantrack/fan_track/object_detector/data/avod_cars_fast.zip -d /content/fantrack/fan_track/object_detector/data/"
      ]
    },
    {
      "cell_type": "code",
      "execution_count": null,
      "metadata": {
        "id": "-En2VQPUfZQF"
      },
      "outputs": [],
      "source": [
        "# copy pretrained model to local\n",
        "!cp /content/drive/MyDrive/Kitti/vgg_16.ckpt /content/fantrack/fan_track/avod_feature_extractor/checkpoints/img_vgg/\n",
        "#!cp /content/Kitti/vgg_16.ckpt /content/fantrack/fan_track/avod_feature_extractor/checkpoints/img_vgg/"
      ]
    },
    {
      "cell_type": "code",
      "source": [
        "# copy checkpoint file to local\n",
        "!cp -r /content/drive/MyDrive/Fantrack_7videos_withBN/fantrack_v3/data /content/fantrack/fan_track"
      ],
      "metadata": {
        "id": "gFP8KItBzMxq"
      },
      "execution_count": null,
      "outputs": []
    },
    {
      "cell_type": "markdown",
      "source": [
        "# **Train SimNet**"
      ],
      "metadata": {
        "id": "DMlGgx4a_Hv-"
      }
    },
    {
      "cell_type": "code",
      "execution_count": null,
      "metadata": {
        "id": "fkP_xEn5YQX7"
      },
      "outputs": [],
      "source": [
        "# copy data (50GB ~ 50m)\n",
        "!cp -r /content/drive/MyDrive/Kitti/ /content/Kitti/"
      ]
    },
    {
      "cell_type": "markdown",
      "source": [
        "Below contains a list of issues with original code, and their corresponding modifications. If one issue is indicated \"updated in script\", then no need to edit again in the current session. But if not, modifications in codes are needed. "
      ],
      "metadata": {
        "id": "sEF3Vow8UrUQ"
      }
    },
    {
      "cell_type": "code",
      "execution_count": null,
      "metadata": {
        "id": "3C-A0kIgorjt"
      },
      "outputs": [],
      "source": [
        "# Before run \n",
        "# 1. (updated in script) NameError: name 'AssocnetConfig' is not defined \n",
        "# /content/fantrack/fan_track/experiments/train_simnet.py\n",
        "#  line 22-23\n",
        "'''\n",
        "    if not os.path.exists(SimnetConfig.SIMNET_CKPT_DIR):\n",
        "        os.makedirs(SimnetConfig.SIMNET_CKPT_DIR)\n",
        "'''\n",
        "\n",
        "# 2. (updated in script) FileNotFoundError: [Errno 2] No such file or directory: '/content/fantrack/fan_track/object_detector/avod/data/outputs/pyramid_cars_with_aug_example/pyramid_cars_with_aug_example.config'\n",
        "# modify /content/fantrack/fan_track/data_generation/kitti_simnet_dataset.py\n",
        "# line 43- line 47 \n",
        "'''\n",
        "avod_root_dir = '/content/fantrack/fan_track/object_detector/'\n",
        "checkpoint_name = 'avod_cars_fast'\n",
        "experiment_config = checkpoint_name + '.config'\n",
        "experiment_config_path = os.path.join(avod_root_dir ,'data',checkpoint_name,experiment_config)\n",
        "experiment_config_path\n",
        "'''\n",
        "\n",
        "# 3. (updated in script) FileNotFoundError: Dataset path does not exist: /root/Kitti/object\n",
        "'''\n",
        "modify /content/fantrack/fan_track/config/config.py line 14: KITTI_ROOT = '/content/Kitti'\n",
        "'''\n",
        "\n",
        "# 4. float issue (must update even if simnet is not run:assocnet will also need it)\n",
        "'''\n",
        "# - create 4 empty folders and copy planes from training folder\n",
        "# - insert p = p[:12] in line 92 before 'float 'in /content/fantrack/fan_track/object_detector/wavedata/wavedata/tools/core/calib_utils.py\n",
        "# - insert tr_rect = tr_rect[:9] in line 106 in same file\n",
        "# - insert tr_v2c = tr_v2c[:12] in line 112 in same file\n",
        "'''\n",
        "\n",
        "# 5. (updated in script) velodyne: 002-177-179 are missing: https://github.com/aurora-opensource/xviz/issues/391\n",
        "'''\n",
        "set line 90 to true for debug:\n",
        "# /content/fantrack/fan_track/data_generation/simnet_batch_sampler.py\n",
        "'''\n",
        "\n",
        "# 6. only edit for quickly debug purpose:\n",
        "# copy below code to line 250: /content/fantrack/fan_track/data_generation/kitti_simnet_dataset.py\n",
        "#  --> create_examples_odd_even\n",
        "'''\n",
        "                                        print(video_no,example_idx,frame_id ) \n",
        "                                        # debug save only first 3 frames\n",
        "                                        if frame_id >= 3:\n",
        "                                           print (total_pos_exp_video, total_neg_exp_video)\n",
        "                                           return total_pos_exp_video, total_neg_exp_video\n",
        "                                        if frame_id >= 2:\n",
        "                                           is_training_frame = False\n",
        "'''\n",
        "\n",
        "# copy below code to line 420 (before example_idx, num_pos_exp,num_neg_pos,_ = self.save_examples(video_no,)\n",
        "# --> create_examples\n",
        "\n",
        "'''\n",
        "                            # debug save only first 5 frames\n",
        "                            if frame_id >= 3:\n",
        "                                print (total_pos_exp_video, total_neg_exp_video)\n",
        "                                return total_pos_exp_video, total_neg_exp_video\n",
        "                            if frame_id >= 2:\n",
        "                               is_training_frame = False\n",
        "'''\n",
        "\n",
        "# 7. only edit for purposes of training part-of-video \n",
        "# Run full sequence of video 0-9 \n",
        "# /content/fantrack/fan_track/data_generation/kitti_simnet_dataset.py\n",
        "''' line 99\n",
        "            if int(video_no) == 10:\n",
        "              break\n",
        "'''\n",
        "# /content/fantrack/fan_track/data_generation/kitti_assocnet_dataset.py\n",
        "''' line 102\n",
        "            if int(video_no) == 10:\n",
        "              break\n",
        "'''\n",
        "\n",
        "# 8. Only edit if BN layer needs removing\n",
        "# Remove BN layer.\n",
        "''' /content/fantrack/fan_track/network/model.py\n",
        "line 339\n",
        "            with slim.arg_scope([slim.fully_connected, slim.conv2d],\n",
        "                                weights_regularizer = w_regularizer,\n",
        "                                activation_fn = tf.nn.leaky_relu,\n",
        "                                normalizer_fn = None #batch_norm_fn,\n",
        "                               ) as arg_scope:\n",
        "line 541\n",
        "        with slim.arg_scope([slim.conv2d, slim.fully_connected],\n",
        "                            activation_fn = tf.nn.leaky_relu,\n",
        "                            weights_regularizer = w_regularizer,\n",
        "                            weights_initializer = w_initializer,\n",
        "                            normalizer_fn = None #slim.batch_norm,\n",
        "                           ) as arg_scope:\n",
        "'''\n",
        "\n",
        "# 9. Only edit for purpose of training shorter epochs\n",
        "# reduce epoch number\n",
        "''' \n",
        "/content/fantrack/fan_track/experiments/train_simnet.py\n",
        "line 20\n",
        "    args.epochs = 100\n",
        "/content/fantrack/fan_track/config/config.py\n",
        "line 45\n",
        "    EPOCHS = 100\n",
        "\n",
        "'''"
      ]
    },
    {
      "cell_type": "code",
      "execution_count": null,
      "metadata": {
        "id": "js0lTLHct_AV"
      },
      "outputs": [],
      "source": [
        "# create empty folder in object/testing/ \n",
        "# copy planes from training set\n",
        "!cp -r /content/Kitti/object/training/planes /content/Kitti/object/testing/\n",
        "!mkdir /content/Kitti/object/testing/calib/\n",
        "!mkdir /content/Kitti/object/testing/image_2/\n",
        "!mkdir /content/Kitti/object/testing/label_2/\n",
        "!mkdir /content/Kitti/object/testing/velodyne/"
      ]
    },
    {
      "cell_type": "code",
      "execution_count": null,
      "metadata": {
        "id": "P4Kx9BmXQu3c"
      },
      "outputs": [],
      "source": [
        "%cd /content/fantrack/\n",
        "!python3 fan_track/experiments/train_simnet.py"
      ]
    },
    {
      "cell_type": "markdown",
      "source": [
        "# **Train AssoNet**"
      ],
      "metadata": {
        "id": "TndCO4AK_Xuv"
      }
    },
    {
      "cell_type": "code",
      "source": [
        "# 1. (updated in script) FileNotFoundError: [Errno 2] No such file or directory: '/content/fantrack/fan_track/object_detector/avod/data/outputs/pyramid_cars_with_aug_example/pyramid_cars_with_aug_example.config'\n",
        "''' \n",
        "/content/fantrack/fan_track/data_generation/kitti_assocnet_dataset.py\n",
        "line55-59 before read the configuration\n",
        "\n",
        "        avod_root_dir = '/content/fantrack/fan_track/object_detector/'\n",
        "        checkpoint_name = 'avod_cars_fast'\n",
        "        experiment_config = checkpoint_name + '.config'\n",
        "        experiment_config_path = os.path.join(avod_root_dir ,'data',checkpoint_name,experiment_config)\n",
        "        experiment_config_path\n",
        "'''\n",
        "\n",
        "# 2. Only edit for quickly debug purposes\n",
        "'''\n",
        "/content/fantrack/fan_track/data_generation/kitti_assocnet_dataset.py line 180\n",
        "                                            # debug save only first 3 frames\n",
        "                                            if frame_id > 3:\n",
        "                                               train_val = 'validation'\n",
        "                                            if frame_id >= 5:\n",
        "                                               continue\n",
        "'''\n",
        "\n",
        "# 3. Change config of Simnet if needed\n",
        "\n",
        "'''/content/fantrack/fan_track/config/config.py\n",
        "line 44 \n",
        "    SIMNET_CKPT_PATH = os.path.join(SIMNET_CKPT_DIR, 'simnet.ckpt-99')\n",
        "\n",
        "'''\n"
      ],
      "metadata": {
        "id": "j6QJYQYjI389"
      },
      "execution_count": null,
      "outputs": []
    },
    {
      "cell_type": "code",
      "source": [
        "%cd /content/fantrack/\n",
        "!python3 fan_track/experiments/train_assocnet.py"
      ],
      "metadata": {
        "id": "iG2mPbhiE4Sz"
      },
      "execution_count": null,
      "outputs": []
    },
    {
      "cell_type": "markdown",
      "source": [
        "# **Run Inference**"
      ],
      "metadata": {
        "id": "CJmV1vh-_gNf"
      }
    },
    {
      "cell_type": "code",
      "source": [
        "# 1. (updated in script) Change AVOD directory\n",
        "'''\n",
        " /content/fantrack/fan_track/network/tracker.py\n",
        "line361-366 after initialize AVOD\n",
        "\n",
        "\t\tavod_root_dir = '/content/fantrack/fan_track/object_detector/'\n",
        "\t  \n",
        "\t\tavod_checkpoint = os.path.join(avod_root_dir, 'data', \\\n",
        "\t\t\t\t\t\t  args.avod_checkpoint_name,'checkpoints', args.avod_checkpoint_name + '-' + TrackerConfig.AVOD_CKPT_NUMBER)\n",
        "\t\texperiment_config_path = os.path.join(avod_root_dir ,'data', \\\n",
        "              args.avod_checkpoint_name, args.avod_checkpoint_name + '.config')\n",
        "\n",
        "/content/fantrack/fan_track/config/config.py\n",
        "Edit checkpoint number for ASSOCNET and Tracker\n",
        "line 44\n",
        "    SIMNET_CKPT_PATH = os.path.join(SIMNET_CKPT_DIR, 'simnet.ckpt-99')\n",
        "\n",
        "line 62\n",
        "    ASSOCNET_CKPT_PATH = os.path.join(ASSOCNET_CKPT_DIR, 'assocnet.ckpt-99')\n",
        "\n",
        "line 91\n",
        "    AVOD_CKPT_NAME = 'avod_cars_fast'\n",
        "    AVOD_CKPT_NUMBER = '00093000'\n",
        "\n",
        "line 19: /content/fantrack/fan_track/experiments/run_tracker.py\n",
        "    args.avod_checkpoint_name = 'avod_cars_fast'\n",
        "\n",
        "'''\n",
        "# 2. edit for purposes of inferencing only on two videos\n",
        "'''/content/fantrack/fan_track/experiments/run_tracker.py\n",
        "line 27\n",
        "    for i in range(2):\n",
        "\n",
        "'''\n",
        "\n",
        "# 3. save inference data and results\n",
        "'''/content/fantrack/fan_track/network/tracker.py\n",
        "line 530\n",
        "\t\t\t\tassociations = self.get_associations(targets, measurements, self.video_no, self.current_frame_name)\n",
        "\n",
        "line 894\n",
        "\tdef get_associations(self, targets, measurements, video_no, frame_id):\n",
        "\n",
        "line 1066\n",
        "\t\t# save to local\n",
        "\t\texample = {\n",
        "        'target_centers': target_centers,\n",
        "        'num_targets': targets,\n",
        "        'm_centers': self.mapper.m_centers,\n",
        "        'm_pred_x':m_pred_x,\n",
        "        'm_pred_y': m_pred_y,\n",
        "        'local_corr_map':local_corr_map,\n",
        "        'associations':associations,\n",
        "        'corr_scores': corr_scores,\n",
        "    }\n",
        "\n",
        "\t\tsave_path = '/content/demo/data/%s/'%video_no\n",
        "    # create folder \n",
        "\t\t# Render results\n",
        "\t\tif not os.path.exists(save_path):\n",
        "\t\t\tos.makedirs(save_path)\n",
        "\t\tfilename = os.path.join(save_path, 'infer_data_video_%s_frame_%s.npy'%(video_no, frame_id))\n",
        "\t\tnp.save(filename, example)\n",
        "'''\n"
      ],
      "metadata": {
        "id": "cPzx9LipMgyd"
      },
      "execution_count": null,
      "outputs": []
    },
    {
      "cell_type": "code",
      "source": [
        "%cd /content/fantrack/\n",
        "!python3 fan_track/experiments/run_tracker.py"
      ],
      "metadata": {
        "id": "cwKyN9Vu_e3U"
      },
      "execution_count": null,
      "outputs": []
    }
  ],
  "metadata": {
    "accelerator": "GPU",
    "colab": {
      "collapsed_sections": [
        "RaEIClj6jw7i",
        "JAdCn9JAypv1",
        "o0FUZ8VlrxLX",
        "DMlGgx4a_Hv-",
        "TndCO4AK_Xuv"
      ],
      "machine_shape": "hm",
      "provenance": [],
      "toc_visible": true
    },
    "gpuClass": "standard",
    "kernelspec": {
      "display_name": "Python 3",
      "name": "python3"
    },
    "language_info": {
      "name": "python"
    }
  },
  "nbformat": 4,
  "nbformat_minor": 0
}